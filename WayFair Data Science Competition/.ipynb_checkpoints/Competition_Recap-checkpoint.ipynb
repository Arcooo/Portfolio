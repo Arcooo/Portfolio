{
 "cells": [
  {
   "cell_type": "code",
   "execution_count": 2,
   "metadata": {},
   "outputs": [],
   "source": [
    "# BLOCK 1: IMPORTS\n",
    "\n",
    "# Python Library Imports \n",
    "import pandas as pd  # for Dataframes\n",
    "import numpy as np  # for arrays\n",
    "import matplotlib.pyplot as plt  # for plotting visuals\n",
    "import operator\n",
    "\n",
    "# import xgboost as xgb  # boosted decision trees\n",
    "# import pandas_ml as pdml\n",
    "\n",
    "# import sklearn  # for machine learning\n",
    "# from sklearn import tree \n",
    "# from sklearn import preprocessing\n",
    "\n",
    "# from sklearn.preprocessing import scale\n",
    "# from sklearn.model_selection import train_test_split\n",
    "# from sklearn.preprocessing import StandardScaler  \n",
    "# from sklearn.metrics import log_loss, accuracy_score\n",
    "# from sklearn.tree import DecisionTreeClassifier, DecisionTreeRegressor, export_graphviz\n",
    "# from sklearn.ensemble import AdaBoostClassifier, GradientBoostingClassifier\n",
    "\n",
    "# from IPython.display import Image\n",
    "\n",
    "# import pickle # persistant objects aka classifier after training\n",
    "\n",
    "# from collections import Counter\n",
    "# from sklearn.datasets import make_classification\n",
    "# import subprocess\n",
    "\n",
    "# from sklearn.datasets import load_svmlight_files\n",
    "# from sklearn.metrics import accuracy_score\n",
    "# from xgboost.sklearn import XGBClassifier, XGBRegressor\n",
    "# from sklearn.metrics import mean_squared_error"
   ]
  },
  {
   "cell_type": "code",
   "execution_count": 3,
   "metadata": {},
   "outputs": [],
   "source": [
    "# # BLOCK 2: STYLING And Globals\n",
    "\n",
    "# # Styling\n",
    "# pd.set_option('notebook_repr_html', True)\n",
    "# pd.set_option('max_columns', 50)\n",
    "# # pd.set_option('display.width', 1000)\n",
    "# pd.set_option('max_colwidth', 40)\n",
    "# %matplotlib inline \n",
    "# # pd.set_option('display.max_columns', None)"
   ]
  },
  {
   "cell_type": "code",
   "execution_count": 45,
   "metadata": {},
   "outputs": [
    {
     "name": "stdout",
     "output_type": "stream",
     "text": [
      "[{'directEIN': 2, 'email': 0, 'other': 0, 'phone': 0}, {'directEIN': 358.91, 'email': 0.0, 'other': 0.0, 'phone': 0.0}]\n"
     ]
    }
   ],
   "source": [
    "# import pandas as pd\n",
    "# import operator\n",
    "\n",
    "class Preprocessing():\n",
    "    def __init__(self):\n",
    "        self.df = -1 #main dataframe\n",
    "        \n",
    "        self.log = [] #log of everything list\n",
    "        self.logCount = 0 #what number log count for debugging\n",
    "    \n",
    "    # Imports file into a dataframe:df for class\n",
    "    \n",
    "    def dataImport(self, filename, filetype):\n",
    "        s = \"LOG:\" + str(self.logCount)\n",
    "        if (type(self.df) == pd.DataFrame):\n",
    "            s += \" You have already imported FILE\"\n",
    "        else:\n",
    "            s += \" Importing file into a -CLASS Dataframe\"\n",
    "            try:\n",
    "                self.df = pd.read_csv(filename, index_col=0)\n",
    "            except:\n",
    "                s += \" -INPUT FILE EXCEPTION\"\n",
    "        self.log.append(s)\n",
    "        self.logCount += 1\n",
    "        return(self.log, self.df)\n",
    "            \n",
    "    # Different problems with data\n",
    "    # 1. Categoricals\n",
    "#         -Stats ->\n",
    "    \n",
    "    \n",
    "    # 1 Categorical function that returns a list of all the category columns\n",
    "    def categoryFeatures(self, *file):\n",
    "        s = \"LOG:\" + str(self.logCount)\n",
    "        catColList = []\n",
    "        for cat in range(self.df.shape[1]):\n",
    "            if self.df.dtypes[cat] == 'object':\n",
    "                catColList.append(self.df.columns[cat])\n",
    "        s += \"CategoryFeatures: \" + str(catColList)\n",
    "        self.log.append(s)\n",
    "        self.logCount += 1\n",
    "        return(self.log, self.df, catColList)\n",
    "    \n",
    "    def categoryStats(self, df, catColList, *cmpCols):\n",
    "        s = \"LOG:\" + str(self.logCount)\n",
    "                        \n",
    "        categTotals = [] # list to hold the totals for each unique category with each category column\n",
    "\n",
    "        cmpColLists = []\n",
    "        for each in cmpCols:\n",
    "            cmpColLists.append([])\n",
    "        \n",
    "        for catIndex, cat in enumerate(catColList): # for each index in \n",
    "            categTotalsd = {}\n",
    "            others = []\n",
    "            for each in cmpCols:\n",
    "                others.append({})\n",
    "            \n",
    "            # For each unique category in the column\n",
    "            for catUniqueIndex, uniqueCat in enumerate(df[cat].unique()):\n",
    "                categTotalsd[uniqueCat] = df[cat].value_counts()[uniqueCat]  # totals in cat\n",
    "                \n",
    "                for i, each in enumerate(cmpCols):\n",
    "                    tempDfBool = (df[each]>0) & (df[cat] == uniqueCat)\n",
    "                    tempDfCats = df[tempDfBool]\n",
    "                    others[i][uniqueCat] = tempDfCats[each].sum().round(2)\n",
    "\n",
    "            categTotals.append(categTotalsd)    \n",
    "#             categConvert.append(categConvertd)\n",
    "#             categRevenues.append(categRevenuesd)\n",
    "#             percentBuy.append(percentBuyd)\n",
    "\n",
    "        print (others)\n",
    "        return categTotals\n",
    "    \n",
    "def listPrinter(objList):\n",
    "    for i, each in enumerate(objList):\n",
    "        print(each)\n",
    "\n",
    "pre = Preprocessing()\n",
    "plist = pre.dataImport('files/small.csv','csv')\n",
    "plist = pre.categoryFeatures()\n",
    "plist = pre.categoryStats(plist[1], plist[2], 'convert_30', 'revenue_30')\n",
    "\n",
    "# listPrinter(plist)\n",
    "\n"
   ]
  },
  {
   "cell_type": "code",
   "execution_count": null,
   "metadata": {},
   "outputs": [],
   "source": []
  },
  {
   "cell_type": "code",
   "execution_count": null,
   "metadata": {},
   "outputs": [],
   "source": []
  },
  {
   "cell_type": "code",
   "execution_count": 87,
   "metadata": {},
   "outputs": [
    {
     "name": "stdout",
     "output_type": "stream",
     "text": [
      "1 Python is great!\n",
      "Look for Geeksforgeeks Python Section\n",
      "Look for Geeksforgeeks Python Section\n"
     ]
    }
   ],
   "source": [
    "def f(): \n",
    "    global s \n",
    "    print('1', s) \n",
    "    s = \"Look for Geeksforgeeks Python Section\"\n",
    "    print(s)  \n",
    "  \n",
    "# Global Scope \n",
    "s = \"Python is great!\" \n",
    "f() \n",
    "print(s)"
   ]
  },
  {
   "cell_type": "code",
   "execution_count": 22,
   "metadata": {},
   "outputs": [],
   "source": [
    "  # append to lists     \n",
    "#             categTotalsd = sorted(categTotalsd.items(), key=operator.itemgetter(1), reverse=True)"
   ]
  }
 ],
 "metadata": {
  "kernelspec": {
   "display_name": "Python 3",
   "language": "python",
   "name": "python3"
  },
  "language_info": {
   "codemirror_mode": {
    "name": "ipython",
    "version": 3
   },
   "file_extension": ".py",
   "mimetype": "text/x-python",
   "name": "python",
   "nbconvert_exporter": "python",
   "pygments_lexer": "ipython3",
   "version": "3.7.0"
  }
 },
 "nbformat": 4,
 "nbformat_minor": 2
}
