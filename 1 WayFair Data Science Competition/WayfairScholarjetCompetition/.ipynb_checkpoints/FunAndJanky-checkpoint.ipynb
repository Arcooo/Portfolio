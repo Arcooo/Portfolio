{
 "cells": [
  {
   "cell_type": "code",
   "execution_count": null,
   "metadata": {},
   "outputs": [],
   "source": []
  },
  {
   "cell_type": "code",
   "execution_count": null,
   "metadata": {},
   "outputs": [],
   "source": []
  },
  {
   "cell_type": "code",
   "execution_count": null,
   "metadata": {},
   "outputs": [],
   "source": []
  },
  {
   "cell_type": "code",
   "execution_count": null,
   "metadata": {},
   "outputs": [],
   "source": [
    "IMPORTANT\n",
    "\n",
    "# Explicitly divide the dataset based on domain knowledge\n",
    "\n",
    "rollup1 = (dataframe_all['roll_up'] == 'Retention')\n",
    "rollup2 = (dataframe_all['roll_up'] == 'Onboarding')\n",
    "rollup3 = (dataframe_all['roll_up'] == 'Unmanaged')\n",
    "rollup1 = pd.DataFrame(dataframe_all[rollup1], copy=True)\n",
    "rollup2 = pd.DataFrame(dataframe_all[rollup2], copy=True)\n",
    "rollup3 = pd.DataFrame(dataframe_all[rollup3], copy=True)\n",
    "\n",
    "dataframe_all.replace(to_replace=['In Progress', 'Unconfirmed'], value='Enrolled', inplace=True)  # group these categories in with Enrolled\n",
    "\n",
    "currentstatus1 = (rollup1['currentstatus'] == 'Active')\n",
    "currentstatus2 = (rollup1['currentstatus'] == 'Enrolled')\n",
    "currentstatus1 = pd.DataFrame(rollup1[currentstatus1], copy=True)\n",
    "currentstatus2 = pd.DataFrame(rollup1[currentstatus2], copy=True)\n",
    "\n",
    "currentstatus3 = (rollup2['currentstatus'] == 'Active')\n",
    "currentstatus4 = (rollup2['currentstatus'] == 'Enrolled')\n",
    "currentstatus3 = pd.DataFrame(rollup2[currentstatus3], copy=True)\n",
    "currentstatus4 = pd.DataFrame(rollup2[currentstatus4], copy=True)\n",
    "\n",
    "currentstatus5 = (rollup3['currentstatus'] == 'Active')\n",
    "currentstatus6 = (rollup3['currentstatus'] == 'Enrolled')\n",
    "currentstatus5 = pd.DataFrame(rollup3[currentstatus5], copy=True)\n",
    "currentstatus6 = pd.DataFrame(rollup3[currentstatus6], copy=True)\n",
    "\n",
    "df1 = (currentstatus1['companytypegroup'] == 'Trade')\n",
    "df2 = (currentstatus1['companytypegroup'] == 'Business')\n",
    "df1 = pd.DataFrame(currentstatus1[df1], copy=True)\n",
    "df2 = pd.DataFrame(currentstatus1[df2], copy=True)\n",
    "\n",
    "df3 = (currentstatus2['companytypegroup'] == 'Trade')\n",
    "df4 = (currentstatus2['companytypegroup'] == 'Business')\n",
    "df3 = pd.DataFrame(currentstatus2[df3], copy=True)\n",
    "df4 = pd.DataFrame(currentstatus2[df4], copy=True)\n",
    "\n",
    "df5 = (currentstatus3['companytypegroup'] == 'Trade')\n",
    "df6 = (currentstatus3['companytypegroup'] == 'Business')\n",
    "df5 = pd.DataFrame(currentstatus3[df5], copy=True)\n",
    "df6 = pd.DataFrame(currentstatus3[df6], copy=True)\n",
    "\n",
    "df7 = (currentstatus4['companytypegroup'] == 'Trade')\n",
    "df8 = (currentstatus4['companytypegroup'] == 'Business')\n",
    "df7 = pd.DataFrame(currentstatus4[df7], copy=True)\n",
    "df8 = pd.DataFrame(currentstatus4[df8], copy=True)\n",
    "\n",
    "df9 = (currentstatus5['companytypegroup'] == 'Trade')\n",
    "df10 = (currentstatus5['companytypegroup'] == 'Business')\n",
    "df9 = pd.DataFrame(currentstatus5[df9], copy=True)\n",
    "df10 = pd.DataFrame(currentstatus5[df10], copy=True)\n",
    "\n",
    "df11 = (currentstatus6['companytypegroup'] == 'Trade')\n",
    "df12 = (currentstatus6['companytypegroup'] == 'Business')\n",
    "df11 = pd.DataFrame(currentstatus6[df11], copy=True)\n",
    "df12 = pd.DataFrame(currentstatus6[df12], copy=True)"
   ]
  },
  {
   "cell_type": "code",
   "execution_count": null,
   "metadata": {},
   "outputs": [],
   "source": [
    "IMPORTANT\n",
    "\n",
    "# RETENTION\n",
    "print(len(df1))  #ACTIVE TRADE\n",
    "print(len(df2))  #ACTIVE BUSINESS\n",
    "print(len(df3))  #ENROLLED TRADE\n",
    "print(len(df4))  #ENROLLED BUSINESS\n",
    "\n",
    "# ONBOARDING\n",
    "print(len(df5))  #ACTIVE TRADE\n",
    "print(len(df6))  #ACTIVE BUSINESS\n",
    "print(len(df7))  #ENROLLED TRADE\n",
    "print(len(df8))  #ENROLLED BUSINESS\n",
    "\n",
    "# UNMANAGED\n",
    "print(len(df9))  #ACTIVE TRADE \n",
    "print(len(df10))  #ACTIVE BUSINESS\n",
    "print(len(df11))  #ENROLLED TRADE\n",
    "print(len(df12))  #ENROLLED BUSINESS"
   ]
  },
  {
   "cell_type": "code",
   "execution_count": null,
   "metadata": {},
   "outputs": [],
   "source": [
    "\n",
    "        if(not GLOBAL_DropMultiple):\n",
    "            pass\n",
    "            GLOBAL_DropMultiple =True\n",
    "            print('log: GLOBAL_DropMultiple=True')"
   ]
  },
  {
   "cell_type": "code",
   "execution_count": null,
   "metadata": {},
   "outputs": [],
   "source": [
    "\n",
    "l = summation(dataframe_all, 'orderrecent', ['numorderone','numorderthreeone','numorderseventhree','numorderthirtyseven'])  \n",
    "dataframe_all\n",
    "    \n",
    "    \n",
    "    df[sumList].iloc[i] =+ df[colList[colIndex]].iloc[i]\n",
    "            print(df[sumList].iloc[i])\n",
    "            \n",
    "#             print(df[colList[colIndex]][i])\n",
    "#             df[sumList][i] =+ df[colList[colIndex]][i]\n",
    "#             print(df[colList[colIndex]][i])\n",
    "            add = df[colList[colIndex]][i]\n",
    "#             print(add, df[sumList][i])\n",
    "            df[sumList][i] = add\n",
    "    return df\n",
    "            print(df[sumList][i])\n",
    "    return df        \n",
    "            \n",
    "            \n",
    "            print(df[colList[colIndex]][i])\n",
    "        \n",
    "        \n",
    "        for col in colList:\n",
    "            \n",
    "            print(df[colList][i])\n",
    "            df[sumList][i] =+ df[colList][i]\n",
    "dataframe_all.drop(['numorderone','numorderthreeone','numorderseventhree','numorderthirtyseven'], inplace=True)\n",
    "\n",
    "dataframe_all['orderrecent'].iloc[:40]\n",
    "\n",
    "\n",
    "tempdf\n",
    "print(tempdf['orderrecent'])\n",
    "\n",
    "summation(dataframe_all, 'orderrecent', ['numorderone','numorderthreeone','numorderseventhree','numorderthirtyseven'])\n",
    "\n",
    "for i in range(len(dataframe_all)):\n",
    "    dataframe_all['orderrecent'][i] = dataframe_all['numorderone'][i] + dataframe_all['numorderthreeone'][i] +dataframe_all['numorderseventhree'][i]dataframe_all['numorderone'][i]\n",
    "    \n",
    "\n",
    "dataframe_all['orderrecent']\n",
    "dataframe_all['numorderone'][0]\n",
    "\n",
    "dataframe_all.shape"
   ]
  },
  {
   "cell_type": "code",
   "execution_count": 4,
   "metadata": {},
   "outputs": [
    {
     "ename": "IndentationError",
     "evalue": "expected an indented block (<ipython-input-4-638091e27a4f>, line 10)",
     "output_type": "error",
     "traceback": [
      "\u001b[1;36m  File \u001b[1;32m\"<ipython-input-4-638091e27a4f>\"\u001b[1;36m, line \u001b[1;32m10\u001b[0m\n\u001b[1;33m    funGame()\u001b[0m\n\u001b[1;37m          ^\u001b[0m\n\u001b[1;31mIndentationError\u001b[0m\u001b[1;31m:\u001b[0m expected an indented block\n"
     ]
    }
   ],
   "source": [
    "def funGame():\n",
    "    print(\"Hello and Welcome\")\n",
    "    \n",
    "def onKeyS():\n",
    "    num =1\n",
    "    \n",
    "    \n",
    "\n",
    "    \n",
    "funGame()\n",
    "    "
   ]
  },
  {
   "cell_type": "code",
   "execution_count": null,
   "metadata": {},
   "outputs": [],
   "source": []
  },
  {
   "cell_type": "code",
   "execution_count": 9,
   "metadata": {},
   "outputs": [],
   "source": [
    "# press a to print rk \n",
    "import keyboard\n",
    "keyboard.add_hotkey('a', lambda: keyboard.write('a')) \n",
    "keyboard.add_hotkey('ctrl + shift + a', print, args =('you entered', 'hotkey')) \n",
    "\n",
    "keyboard.wait('esc') \n"
   ]
  }
 ],
 "metadata": {
  "kernelspec": {
   "display_name": "'Python Interactive'",
   "language": "python",
   "name": "2dfe6ec4-875b-4ed5-8f62-dcbfd037d3e0"
  },
  "language_info": {
   "codemirror_mode": {
    "name": "ipython",
    "version": 3
   },
   "file_extension": ".py",
   "mimetype": "text/x-python",
   "name": "python",
   "nbconvert_exporter": "python",
   "pygments_lexer": "ipython3",
   "version": "3.7.0"
  }
 },
 "nbformat": 4,
 "nbformat_minor": 2
}
