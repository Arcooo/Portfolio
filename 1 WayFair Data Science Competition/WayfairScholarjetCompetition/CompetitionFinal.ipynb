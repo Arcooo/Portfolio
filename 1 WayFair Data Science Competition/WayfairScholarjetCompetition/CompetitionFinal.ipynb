{
 "cells": [
  {
   "cell_type": "code",
   "execution_count": 4,
   "metadata": {},
   "outputs": [],
   "source": [
    "# Goals\n",
    "# I have a dataset with 28126 rows and 183 features. The data is for a \"mostly\" e-commerce company located in Boston that sells\n",
    "# furniture and home goods.\n",
    "\n",
    "# For this company, my job/goal as a data scientist is to predict who will buy (classification) and how much (regression). \n",
    "# It is scored with ROC/AUC and RMSE\n",
    "\n",
    "# CODE STRUCTURE\n",
    "# BLOCK 1: IMPORTS\n",
    "# BLOCK 2: STYLING\n",
    "# BLOCK 3: DATA IMPORT\n",
    "# BLOCK 4: DATA CLEANING - FUNCTION FOR CATEGORICAL DATA\n",
    "# BLOCK 5: DATA ANALYSIS - PUREMEAN\n",
    "# BLOCK 6: DATA CLEANING - REPLACING CATEGORICAL DATA\n",
    "# BLOCK 7: DATA CLEANING - FEATURE REDUCTION AND ANALYSIS \n",
    "# BLOCK 8: DATA SPLITTING"
   ]
  },
  {
   "cell_type": "code",
   "execution_count": 5,
   "metadata": {},
   "outputs": [],
   "source": [
    "# BLOCK 1: IMPORTS\n",
    "\n",
    "# Python Library Imports \n",
    "import pandas as pd  # for Dataframes\n",
    "import numpy as np  # for arrays\n",
    "import matplotlib.pyplot as plt  # for plotting visuals\n",
    "\n",
    "import xgboost as xgb  # boosted decision trees\n",
    "import pandas_ml as pdml\n",
    "\n",
    "import sklearn  # for machine learning\n",
    "from sklearn import tree \n",
    "from sklearn import preprocessing\n",
    "\n",
    "from sklearn.preprocessing import scale\n",
    "from sklearn.model_selection import train_test_split\n",
    "from sklearn.preprocessing import StandardScaler  \n",
    "from sklearn.metrics import log_loss, accuracy_score\n",
    "from sklearn.tree import DecisionTreeClassifier, DecisionTreeRegressor, export_graphviz\n",
    "from sklearn.ensemble import AdaBoostClassifier, GradientBoostingClassifier\n",
    "\n",
    "from IPython.display import Image\n",
    "\n",
    "import pickle # persistant objects aka classifier after training\n",
    "\n",
    "from collections import Counter\n",
    "from sklearn.datasets import make_classification\n",
    "import subprocess\n"
   ]
  },
  {
   "cell_type": "code",
   "execution_count": 6,
   "metadata": {},
   "outputs": [],
   "source": [
    "# BLOCK 2: STYLING\n",
    "\n",
    "# Styling\n",
    "pd.set_option('notebook_repr_html', True)\n",
    "pd.set_option('max_columns', 50)\n",
    "# pd.set_option('display.width', 1000)\n",
    "pd.set_option('max_colwidth', 40)\n",
    "%matplotlib inline \n",
    "# pd.set_option('display.max_columns', None)"
   ]
  },
  {
   "cell_type": "code",
   "execution_count": 7,
   "metadata": {},
   "outputs": [
    {
     "name": "stdout",
     "output_type": "stream",
     "text": [
      "(28126, 181)\n"
     ]
    }
   ],
   "source": [
    "# BLOCK 3: DATA IMPORT\n",
    "\n",
    "# Data Imports\n",
    "csvfile = \"df_training_scholarjet.csv\"  # dataset to be used\n",
    "dataframe_all = pd.read_csv(csvfile, index_col=0)  # read csvs file\n",
    "\n",
    "dictfile = \"Feature_Dictionary.xlsx\"\n",
    "feat_dict = pd.read_excel(dictfile)\n",
    "\n",
    "\n",
    "# Data manipulation - Dropping some columns\n",
    "dataframe_all.drop([\"team\", \"accrole\"], axis=1, inplace=True)  # drop unnecessary columns\n",
    "\n",
    "df_shape = dataframe_all.shape  # save shape\n",
    "print(df_shape)\n",
    "\n",
    "# dataframe_all = dataframe_all.drop([\"revenue_30\"], axis=1, inplace=False)  # Do classificiation first ***\n",
    "\n",
    "# dataframe_all = sklearn.utils.shuffle(dataframe_all) # shuffle\n",
    "\n",
    "dataframe_all.index = range(df_shape[0])  # reindex dataframe\n",
    " \n",
    "# print(dataframe_all.head())"
   ]
  },
  {
   "cell_type": "code",
   "execution_count": 8,
   "metadata": {},
   "outputs": [],
   "source": [
    "# WIP - I want to be able to compare across multiple columns a pivot table? column x column x column combinations \n",
    "\n",
    "# dftest = dataframe_all[['roll_up','currentstatus', 'companytypegroup']]\n",
    "# dftest['companytypegroup'].value_counts()\n",
    "# pd.crosstab(dataframe_all['roll_up'], dataframe_all['currentstatus'])"
   ]
  },
  {
   "cell_type": "code",
   "execution_count": 9,
   "metadata": {},
   "outputs": [],
   "source": [
    "# Clean Data\n",
    "# 1. Change categorical data into numerical. Make sure to mainting data integrity for hierarchical categorical data. \n",
    "# probably use dummy vars for other categorical data.\n",
    "# 2. Impute for missing numbers. I have a prediction that the more filled out the data entry is that it might mean that\n",
    "# the customer is more engaged and likely to buy. Test after cleaning\n"
   ]
  },
  {
   "cell_type": "code",
   "execution_count": 10,
   "metadata": {},
   "outputs": [],
   "source": [
    "# BLOCK 4: DATA CLEANING - CATEGORICAL DATA\n",
    "\n",
    "# Data Cleaning\n",
    "# Should I automate the categorical columns that have rankings?\n",
    "\n",
    "# Find all columns with categorical aka object type data\n",
    "categorical_data_list = []\n",
    "for cat in range(df_shape[1]):\n",
    "    if dataframe_all.dtypes[cat] == 'object':\n",
    "        categorical_data_list.append(dataframe_all.columns[cat])\n",
    "\n",
    "# Analyze the categorical data by finding Totals in each Unique categories\n",
    "# how many are positives where customers bought\n",
    "# total revenues to see if spending is different by group\n",
    "def categoricalAnalysis(df, categList, convert, revenue):\n",
    "    categ_list_len = len(categList)\n",
    "    \n",
    "    # lists to add to the returned dataframe\n",
    "    categTotals = []\n",
    "    categConvert = []\n",
    "    categRevenues = []\n",
    "    percentBuy = []\n",
    "    \n",
    "#     for all of the categorical columns\n",
    "    for cat in range(categ_list_len):\n",
    "        categTotalsd = {}\n",
    "        categConvertd = {}\n",
    "        categRevenuesd = {}\n",
    "        percentBuyd = {}\n",
    "\n",
    "        for index in range(len(df[categList[cat]].unique())):\n",
    "            uniqueCat = df[categList[cat]].unique()[index]  # uniqueCat = iterates through actual unique category list\n",
    "\n",
    "            categTotalsd[uniqueCat] = df[categList[cat]].value_counts()[uniqueCat]  # totals in cat\n",
    "    \n",
    "            #Convert for each cat\n",
    "            tempDfcon = (df[convert]>0) & (df[categList[cat]] == uniqueCat)\n",
    "            dfConvert = df[tempDfcon]\n",
    "            categConvertd[uniqueCat] = dfConvert[convert].sum().round(2)            \n",
    "        \n",
    "            #Revenues for each cat\n",
    "            tempDf = (df[revenue]>0) & (df[categList[cat]] == uniqueCat)\n",
    "            dfUniqueAbove0 = df[tempDf]\n",
    "            categRevenuesd[uniqueCat] = dfUniqueAbove0[revenue].sum().round(2)\n",
    "\n",
    "            percentBuyd[uniqueCat] = categConvertd[uniqueCat] / categTotalsd[uniqueCat] \n",
    "\n",
    "            \n",
    "#         append to lists     \n",
    "        categTotals.append(categTotalsd)    \n",
    "        categConvert.append(categConvertd)\n",
    "        categRevenues.append(categRevenuesd)\n",
    "        percentBuy.append(percentBuyd)\n",
    "    d = {'CatColumns':categTotals, 'UniqueCat':categConvert, 'RevCat':categRevenues, 'PercentBuy':percentBuy}\n",
    "    categorical_data_df = pd.DataFrame(d)\n",
    "    return categorical_data_df\n",
    "\n",
    "# call function to create new dataframe of all the raw info on categoricals\n",
    "analysisDf = categoricalAnalysis(dataframe_all, categorical_data_list, \"convert_30\", \"revenue_30\")        \n",
    "# print(analysisDf.values)\n",
    "# print(categorical_data_list)\n",
    "# analysisDf.values[9]                     "
   ]
  },
  {
   "cell_type": "code",
   "execution_count": 11,
   "metadata": {},
   "outputs": [
    {
     "name": "stdout",
     "output_type": "stream",
     "text": [
      "2928 out of a total of 28126 bought\n",
      "10.41% of all customers bought/converted\n",
      "The average a customer spend was: $2,110,546.84\n",
      "The average a customer spend was: $720.82\n",
      "The average a population spends was: $75.04\n",
      "The total a population can spend: $20,273,647.69\n"
     ]
    }
   ],
   "source": [
    "# BLOCK 5: DATA ANALYSIS - PUREMEAN\n",
    "\n",
    "# Examine entire dataset to find percent of buyers to total\n",
    "aboveAnalysis = dataframe_all['revenue_30'] > 0\n",
    "aboveAnalysis = dataframe_all[aboveAnalysis]\n",
    "print(len(aboveAnalysis), \"out of a total of\", len(dataframe_all), \"bought\" )\n",
    "print(\"{:.2%}\".format(len(aboveAnalysis) / len(dataframe_all)), \"of all customers bought/converted\")\n",
    "print(\"The average a customer spend was:\", \"${:,.2f}\".format(aboveAnalysis[\"revenue_30\"].sum().round(2)))\n",
    "print(\"The average a customer spend was:\", \"${:.2f}\".format(aboveAnalysis[\"revenue_30\"].sum().round(2)/len(aboveAnalysis)))\n",
    "print(\"The average a population spends was:\", \"${:.2f}\".format(aboveAnalysis[\"revenue_30\"].sum().round(2)/len(dataframe_all)))\n",
    "print(\"The total a population can spend:\", \"${:,.2f}\".format(aboveAnalysis[\"revenue_30\"].sum().round(2)/len(aboveAnalysis)*len(dataframe_all)))\n",
    "\n",
    "\n",
    "# The mean score used for all those shitty small categories\n",
    "pureMean = len(aboveAnalysis) / len(dataframe_all)\n"
   ]
  },
  {
   "cell_type": "code",
   "execution_count": 20,
   "metadata": {},
   "outputs": [],
   "source": [
    "# BLOCK 6: DATA CLEANING - REPLACING CATEGORICAL DATA\n",
    "\n",
    "# Data Cleaning\n",
    "\n",
    "#input mean scores into categories\n",
    "#for all examples where the data has less than 1000 in the categories, input the pureMean\n",
    "\n",
    "def replaceCategCols(df):\n",
    "    replaceDf = pd.DataFrame(df, copy=True)\n",
    "    for i, cat in enumerate(categorical_data_list):\n",
    "        for j, unique in enumerate (replaceDf[cat].unique()):\n",
    "    #         print(unique, analysisDf.values[i][0][unique] < 1000)\n",
    "            if (analysisDf.values[i][0][unique]< 100):\n",
    "                replaceDf[cat].replace(unique, pureMean,inplace=True)\n",
    "            else:\n",
    "                replaceDf[cat].replace(unique, analysisDf.values[i][3][unique],inplace=True)\n",
    "    return replaceDf       \n",
    "\n",
    "cleanedDf = pd.DataFrame(replaceCategCols(dataframe_all), copy = True)\n"
   ]
  },
  {
   "cell_type": "code",
   "execution_count": 13,
   "metadata": {},
   "outputs": [
    {
     "data": {
      "text/html": [
       "<div>\n",
       "<style scoped>\n",
       "    .dataframe tbody tr th:only-of-type {\n",
       "        vertical-align: middle;\n",
       "    }\n",
       "\n",
       "    .dataframe tbody tr th {\n",
       "        vertical-align: top;\n",
       "    }\n",
       "\n",
       "    .dataframe thead th {\n",
       "        text-align: right;\n",
       "    }\n",
       "</style>\n",
       "<table border=\"1\" class=\"dataframe\">\n",
       "  <thead>\n",
       "    <tr style=\"text-align: right;\">\n",
       "      <th>convert_30</th>\n",
       "      <th>0</th>\n",
       "      <th>1</th>\n",
       "    </tr>\n",
       "    <tr>\n",
       "      <th>nps_count</th>\n",
       "      <th></th>\n",
       "      <th></th>\n",
       "    </tr>\n",
       "  </thead>\n",
       "  <tbody>\n",
       "    <tr>\n",
       "      <th>1.0</th>\n",
       "      <td>1310</td>\n",
       "      <td>240</td>\n",
       "    </tr>\n",
       "    <tr>\n",
       "      <th>2.0</th>\n",
       "      <td>111</td>\n",
       "      <td>34</td>\n",
       "    </tr>\n",
       "    <tr>\n",
       "      <th>3.0</th>\n",
       "      <td>8</td>\n",
       "      <td>4</td>\n",
       "    </tr>\n",
       "    <tr>\n",
       "      <th>4.0</th>\n",
       "      <td>2</td>\n",
       "      <td>2</td>\n",
       "    </tr>\n",
       "  </tbody>\n",
       "</table>\n",
       "</div>"
      ],
      "text/plain": [
       "convert_30     0    1\n",
       "nps_count            \n",
       "1.0         1310  240\n",
       "2.0          111   34\n",
       "3.0            8    4\n",
       "4.0            2    2"
      ]
     },
     "execution_count": 13,
     "metadata": {},
     "output_type": "execute_result"
    }
   ],
   "source": [
    "# BLOCK 7: DATA CLEANING - FEATURE REDUCTION AND ANALYSIS \n",
    "\n",
    "#WIP\n",
    "# print(pd.crosstab(cleanedDf['percentresolved'], cleanedDf['convert_30']))\n",
    "pd.crosstab(dataframe_all['nps_count'], dataframe_all['convert_30'])\n",
    "\n",
    "\n",
    "\n",
    "\n",
    "\n",
    "# Data Cleaning\n",
    "# Feature Group - Order\n",
    "# Testing my knowledge of what I already know questions\n",
    "# if you recently bought something, how likely are you going to buy something again?\n",
    "#     it would depend on if you were an individual consuemr or a b2b\n",
    "#     1 requires 1 time use the other needs to restock\n",
    "    \n",
    "# how do you correlate domain knowledge into your model\n",
    "\n",
    "# replaceDf[replaceDf.columns[12:37]].loc[:10]\n",
    "# len(replaceDf.columns[12:37])\n",
    "\n",
    "# replaceDf[replaceDf.columns[12]]\n",
    "# print(pd.crosstab(replaceDf['numbamorder'], replaceDf['convert_30']))\n",
    "# print(pd.crosstab(replaceDf['numselforder'], replaceDf['convert_30']))\n",
    "# number vs sum\n",
    "# bam vs self\n",
    "# total vs average deviation?\n",
    "\n",
    "\n"
   ]
  },
  {
   "cell_type": "code",
   "execution_count": null,
   "metadata": {},
   "outputs": [],
   "source": []
  },
  {
   "cell_type": "code",
   "execution_count": 30,
   "metadata": {},
   "outputs": [],
   "source": [
    "# BLOCK 8: DATA SPLITTING\n",
    "\n",
    "cleanedDf.fillna(-99999, inplace=True)  # fill in NaNs with 0s\n",
    "cleanedDf = sklearn.utils.shuffle(cleanedDf) # shuffle data\n",
    "\n",
    "# cuid = pd.DataFrame(cleanedDf['cuid'], copy=True)\n",
    "# cleanedDf.drop(['cuid'], axis=1, inplace=True)\n",
    "\n",
    "\n",
    "# label data for models\n",
    "yConv = pd.DataFrame(cleanedDf['convert_30'], copy=True)\n",
    "yRegr = pd.DataFrame(cleanedDf['revenue_30'], copy=True)\n",
    "\n",
    "\n",
    "# feature data for models\n",
    "X = pd.DataFrame(cleanedDf, copy=True)\n",
    "X.drop(['convert_30', 'revenue_30'], axis=1, inplace=True)\n",
    "\n",
    "# splitting data\n",
    "seed = 100\n",
    "X_train, X_test, y_train, y_test = train_test_split(X, yConv, test_size=0.2, random_state=seed)\n",
    "X_trainr, X_testr, y_trainr, y_testr = train_test_split(X, yRegr, test_size=0.2, random_state=seed)\n",
    "\n",
    "# print(cleanedDf)"
   ]
  },
  {
   "cell_type": "code",
   "execution_count": 31,
   "metadata": {},
   "outputs": [
    {
     "name": "stdout",
     "output_type": "stream",
     "text": [
      " == Decision Tree ==\n",
      "Accuracy: 0.84\n",
      "Log loss: 5.65\n",
      "Number of nodes created: 3603\n"
     ]
    }
   ],
   "source": [
    "# BLOCK 9: MODEL - DECISION TREE (DT) CLASSIFICIER\n",
    "# model\n",
    "decisionTree = DecisionTreeClassifier(random_state=seed)\n",
    "\n",
    "# train classifier\n",
    "decisionTree.fit(X_train, y_train)\n",
    "\n",
    "#predict output\n",
    "DT_ypred = decisionTree.predict(X_test)\n",
    "DT_ypredprob = decisionTree.predict_proba(X_test)\n",
    "\n",
    "DT_accuracy = accuracy_score(y_test, DT_ypred)\n",
    "DT_logloss = log_loss(y_test, DT_ypredprob)\n",
    "\n",
    "print(\" == Decision Tree ==\")\n",
    "print(\"Accuracy: {0:.2f}\".format(DT_accuracy))\n",
    "print(\"Log loss: {0:.2f}\".format(DT_logloss))\n",
    "print(\"Number of nodes created: {}\".format(decisionTree.tree_.node_count))\n",
    "\n"
   ]
  },
  {
   "cell_type": "code",
   "execution_count": null,
   "metadata": {},
   "outputs": [],
   "source": [
    "# dt_viz_file = 'dt.dot'\n",
    "# dt_png_file = 'dt.png'\n",
    "\n",
    "# #create visualizations\n",
    "# export_graphviz(decisionTree, out_file = dt_viz_file)\n",
    "\n",
    "# #conver to png\n",
    "# command = [\"dot\", \"-Tpng\", dt_viz_file, \"-o\", dt_png_file]\n",
    "# subprocess.check_call(command, shell=True)\n",
    "\n",
    "# Image(filename=dt_png_file)"
   ]
  },
  {
   "cell_type": "code",
   "execution_count": 32,
   "metadata": {},
   "outputs": [],
   "source": [
    "# BLOCK 9: MODEL - DECISION TREE (DT) REGRESSOR\n",
    "decisionTreer = DecisionTreeRegressor(random_state=seed)\n",
    "\n",
    "# train classifier\n",
    "decisionTreer.fit(X_trainr, y_trainr)\n",
    "\n",
    "#predict output\n",
    "DT_ypredr = decisionTreer.predict(X_testr)\n",
    "# DT_ypredprobr = decisionTreer.predict_proba(X_testr)\n",
    "\n",
    "# DT_accuracyr = accuracy_score(y_testr, DT_ypredr)\n",
    "# DT_loglossr = log_loss(y_testr, DT_ypredprobr)\n",
    "\n",
    "# print(\" == Decision Tree ==\")\n",
    "# print(\"Accuracy: {0:.2f}\".format(DT_accuracyr))\n",
    "# print(\"Log loss: {0:.2f}\".format(DT_loglossr))\n",
    "# print(\"Number of nodes created: {}\".format(decisionTreer.tree_.node_count))\n",
    "# print(DT_ypredr[100], y_testr)\n",
    "\n",
    "# for i, ind in enumerate(DT_ypredr[:100]):\n",
    "#     print(DT_ypredr[i], \"     \",y_testr.iloc[i].values[0] )\n"
   ]
  },
  {
   "cell_type": "code",
   "execution_count": 33,
   "metadata": {},
   "outputs": [
    {
     "name": "stdout",
     "output_type": "stream",
     "text": [
      "==AdaBoost ==\n",
      "Accuracy: 0.90\n",
      "Log loss: 0.60\n",
      "\n"
     ]
    }
   ],
   "source": [
    "# BLOCK 10: MODEL - ADA CLASSIFIER\n",
    "\n",
    "# AdaBoost\n",
    "adaboost = AdaBoostClassifier(\n",
    "    base_estimator = DecisionTreeClassifier(max_depth=1),\n",
    "    algorithm='SAMME',\n",
    "    n_estimators = 50,\n",
    "    random_state = seed)\n",
    "\n",
    "#train classifier\n",
    "adaboost.fit(X_train, y_train.values.ravel())\n",
    "\n",
    "#calculate predictions\n",
    "adaboost_y_pred = adaboost.predict(X_test)\n",
    "adaboost_y_pred_prob = adaboost.predict_proba(X_test)\n",
    "\n",
    "#evaluate\n",
    "adaboost_accuracy = accuracy_score(y_test, adaboost_y_pred)\n",
    "adaboost_logloss = log_loss(y_test, adaboost_y_pred_prob)\n",
    "\n",
    "print(\"==AdaBoost ==\")\n",
    "print(\"Accuracy: {0:.2f}\".format(adaboost_accuracy))\n",
    "print(\"Log loss: {0:.2f}\".format(adaboost_logloss))\n",
    "print()\n"
   ]
  },
  {
   "cell_type": "code",
   "execution_count": 34,
   "metadata": {},
   "outputs": [
    {
     "name": "stdout",
     "output_type": "stream",
     "text": [
      "[0 0 0 0 0]\n",
      "[0 0 0 0 0]\n",
      "[[0.57930304 0.42069696]\n",
      " [0.57641377 0.42358623]\n",
      " [0.55181673 0.44818327]\n",
      " [0.57616878 0.42383122]\n",
      " [0.57641377 0.42358623]]\n"
     ]
    },
    {
     "data": {
      "image/png": "[encoded data removed]",
      "text/plain": [
       "<IPython.core.display.Image object>"
      ]
     },
     "execution_count": 34,
     "metadata": {},
     "output_type": "execute_result"
    }
   ],
   "source": [
    "print_y_test = np.array(y_test[:5].values.ravel())\n",
    "\n",
    "print(print_y_test)\n",
    "print(adaboost_y_pred[:5])\n",
    "print(adaboost_y_pred_prob[:5])\n",
    "\n",
    "\n",
    "ada_t1 = adaboost.estimators_[0]\n",
    "ada_t1_viz_file = 'images/ada-t1.dot'\n",
    "ada_t1_png_file = 'images/ada-t1.png'\n",
    "\n",
    "#create visualizations\n",
    "export_graphviz(ada_t1, out_file=ada_t1_viz_file)\n",
    "\n",
    "#convert to png\n",
    "command = [\"dot\", \"-Tpng\", ada_t1_viz_file, \"-o\", ada_t1_png_file]\n",
    "subprocess.check_call(command, shell=True)\n",
    "\n",
    "Image(filename=ada_t1_png_file)\n",
    "    \n",
    "    "
   ]
  },
  {
   "cell_type": "code",
   "execution_count": 36,
   "metadata": {},
   "outputs": [
    {
     "name": "stdout",
     "output_type": "stream",
     "text": [
      "Error: 0.11\n",
      "Tree Importance: 2.14\n"
     ]
    }
   ],
   "source": [
    "X.columns[90]\n",
    "print(\"Error: {0:.2f}\".format(adaboost.estimator_errors_[0]))\n",
    "print(\"Tree Importance: {0:.2f}\".format(adaboost.estimator_weights_[0]))\n"
   ]
  },
  {
   "cell_type": "code",
   "execution_count": 37,
   "metadata": {},
   "outputs": [
    {
     "name": "stdout",
     "output_type": "stream",
     "text": [
      "== Gradient Boosting ==\n",
      "Accuracy: 0.90\n",
      "Log loss: 0.26\n"
     ]
    }
   ],
   "source": [
    "gbc = GradientBoostingClassifier(max_depth = 1,\n",
    "                                 n_estimators = 100,\n",
    "                                 warm_start = True,\n",
    "                                 random_state = seed)\n",
    "gbc.fit(X_train, y_train.values.ravel())\n",
    "\n",
    "# make predictions\n",
    "gbc_y_pred = gbc.predict(X_test)\n",
    "gbc_y_pred_prob = gbc.predict_proba(X_test)\n",
    "\n",
    "#calculate log loss\n",
    "gbc_accuracy = accuracy_score(y_test, gbc_y_pred)\n",
    "gbc_logloss = log_loss(y_test, gbc_y_pred_prob)\n",
    "\n",
    "print(\"== Gradient Boosting ==\")\n",
    "print(\"Accuracy: {0:.2f}\".format(gbc_accuracy))\n",
    "print(\"Log loss: {0:.2f}\".format(gbc_logloss))"
   ]
  },
  {
   "cell_type": "code",
   "execution_count": 38,
   "metadata": {},
   "outputs": [
    {
     "name": "stdout",
     "output_type": "stream",
     "text": [
      "[0 0 0 0 0]\n",
      "[0 0 0 0 0]\n",
      "[[0.97235716 0.02764284]\n",
      " [0.96449813 0.03550187]\n",
      " [0.83068374 0.16931626]\n",
      " [0.95829348 0.04170652]\n",
      " [0.96316878 0.03683122]]\n"
     ]
    }
   ],
   "source": [
    "print_y_test = np.array(y_test[:5].values.ravel())\n",
    "\n",
    "print(print_y_test)\n",
    "print(gbc_y_pred[:5])\n",
    "print(gbc_y_pred_prob[:5])"
   ]
  },
  {
   "cell_type": "code",
   "execution_count": 39,
   "metadata": {},
   "outputs": [
    {
     "data": {
      "image/png": "[encoded data removed]",
      "text/plain": [
       "<IPython.core.display.Image object>"
      ]
     },
     "execution_count": 39,
     "metadata": {},
     "output_type": "execute_result"
    }
   ],
   "source": [
    "gbc_t1 = gbc.estimators_[2][0]\n",
    "gbc_t1_viz_file = 'images/gbc-t1.dot'\n",
    "gbc_t1_png_file = 'images/gbc-t1.png'\n",
    "\n",
    "#create visualizations\n",
    "export_graphviz(gbc_t1, out_file=gbc_t1_viz_file)\n",
    "\n",
    "#convert to png\n",
    "command = [\"dot\", \"-Tpng\", gbc_t1_viz_file, \"-o\", gbc_t1_png_file]\n",
    "subprocess.check_call(command, shell=True)\n",
    "\n",
    "Image(filename=gbc_t1_png_file)"
   ]
  },
  {
   "cell_type": "code",
   "execution_count": null,
   "metadata": {},
   "outputs": [],
   "source": []
  },
  {
   "cell_type": "code",
   "execution_count": 40,
   "metadata": {},
   "outputs": [
    {
     "name": "stdout",
     "output_type": "stream",
     "text": [
      "[0]\teval-auc:0.749049\ttrain-auc:0.742245\n",
      "[1]\teval-auc:0.763963\ttrain-auc:0.76095\n",
      "[2]\teval-auc:0.785309\ttrain-auc:0.788013\n",
      "[3]\teval-auc:0.792387\ttrain-auc:0.801321\n",
      "[4]\teval-auc:0.800573\ttrain-auc:0.807838\n",
      "[5]\teval-auc:0.805079\ttrain-auc:0.80987\n",
      "[6]\teval-auc:0.803602\ttrain-auc:0.812981\n",
      "[7]\teval-auc:0.802393\ttrain-auc:0.814215\n",
      "[8]\teval-auc:0.803485\ttrain-auc:0.815888\n",
      "[9]\teval-auc:0.805099\ttrain-auc:0.817912\n",
      "[10]\teval-auc:0.806944\ttrain-auc:0.819755\n",
      "[11]\teval-auc:0.807456\ttrain-auc:0.820934\n",
      "[12]\teval-auc:0.80601\ttrain-auc:0.82152\n",
      "[13]\teval-auc:0.80697\ttrain-auc:0.82261\n",
      "[14]\teval-auc:0.806771\ttrain-auc:0.823107\n",
      "[15]\teval-auc:0.806597\ttrain-auc:0.823581\n",
      "[16]\teval-auc:0.807792\ttrain-auc:0.824686\n",
      "[17]\teval-auc:0.808288\ttrain-auc:0.825387\n",
      "[18]\teval-auc:0.808263\ttrain-auc:0.825975\n",
      "[19]\teval-auc:0.809934\ttrain-auc:0.826825\n"
     ]
    }
   ],
   "source": [
    "\n",
    "\n",
    "\n",
    "\n",
    "\n",
    "data = X_train\n",
    "label = y_train\n",
    "dtrain = xgb.DMatrix(data=data, label=label)\n",
    "\n",
    "dataTest = X_test\n",
    "labelTest = y_test\n",
    "dtest = xgb.DMatrix(dataTest, label=labelTest)\n",
    "\n",
    "\n",
    "# len(dtrain.get_label())\n",
    "\n",
    "param = {'max_depth': 2,\n",
    "         'eta': 1,\n",
    "         'silent': 1,\n",
    "         'objective': 'binary:logistic',\n",
    "         'nthread': 4,\n",
    "         'eval_metric': 'auc'}\n",
    "\n",
    "evallist = [(dtest, 'eval'), (dtrain, 'train')]\n",
    "\n",
    "\n",
    "num_round = 20\n",
    "bst = xgb.train(param, dtrain, num_round, evallist)\n"
   ]
  },
  {
   "cell_type": "code",
   "execution_count": 41,
   "metadata": {},
   "outputs": [
    {
     "data": {
      "text/plain": [
       "<matplotlib.axes._subplots.AxesSubplot at 0x1f698824208>"
      ]
     },
     "execution_count": 41,
     "metadata": {},
     "output_type": "execute_result"
    },
    {
     "data": {
      "image/png": "[encoded data removed]",
      "text/plain": [
       "<Figure size 432x288 with 1 Axes>"
      ]
     },
     "metadata": {
      "needs_background": "light"
     },
     "output_type": "display_data"
    }
   ],
   "source": [
    "ypred = bst.predict(dtest)\n",
    "xgb.plot_importance(bst)"
   ]
  },
  {
   "cell_type": "code",
   "execution_count": null,
   "metadata": {},
   "outputs": [],
   "source": []
  },
  {
   "cell_type": "code",
   "execution_count": null,
   "metadata": {},
   "outputs": [],
   "source": []
  },
  {
   "cell_type": "code",
   "execution_count": null,
   "metadata": {},
   "outputs": [],
   "source": []
  }
 ],
 "metadata": {
  "kernelspec": {
   "display_name": "Python 3",
   "language": "python",
   "name": "python3"
  },
  "language_info": {
   "codemirror_mode": {
    "name": "ipython",
    "version": 3
   },
   "file_extension": ".py",
   "mimetype": "text/x-python",
   "name": "python",
   "nbconvert_exporter": "python",
   "pygments_lexer": "ipython3",
   "version": "3.7.0"
  }
 },
 "nbformat": 4,
 "nbformat_minor": 2
}
