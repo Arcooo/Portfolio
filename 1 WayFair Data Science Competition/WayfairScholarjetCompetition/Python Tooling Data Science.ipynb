{
 "cells": [
  {
   "cell_type": "code",
   "execution_count": 5,
   "metadata": {},
   "outputs": [],
   "source": [
    "import pandas as pd  # for Dataframes\n",
    "import numpy as np  # for arrays\n",
    "import sklearn  # for machine learning\n"
   ]
  },
  {
   "cell_type": "code",
   "execution_count": 6,
   "metadata": {},
   "outputs": [
    {
     "name": "stdout",
     "output_type": "stream",
     "text": [
      "(28126, 183)\n"
     ]
    }
   ],
   "source": [
    "# Data Imports\n",
    "csvfile = \"df_training_scholarjet.csv\"  # dataset to be used\n",
    "dataframe_all = pd.read_csv(csvfile, index_col=0)  # read csvs file\n",
    "\n",
    "df_shape = dataframe_all.shape  # save shape\n",
    "\n",
    "# Data manipulation\n",
    "dataframe_all = dataframe_all.drop([\"cuid\"], axis=1, inplace=False)  # drop unnecessary columns\n",
    "\n",
    "# dataframe_all = dataframe_all.drop([\"revenue_30\"], axis=1, inplace=False)  # Do classificiation first ***\n",
    "\n",
    "# dataframe_all = sklearn.utils.shuffle(dataframe_all) # shuffle\n",
    "\n",
    "dataframe_all.index = range(df_shape[0])  # reindex dataframe\n",
    "\n",
    "print(df_shape)  # see shape of dataframe\n",
    "# print(dataframe_all.head())"
   ]
  },
  {
   "cell_type": "code",
   "execution_count": 7,
   "metadata": {},
   "outputs": [],
   "source": [
    "# BLOCK 4\n",
    "# Print Stats Totals\n",
    "def printStatsTotals(num_categs, cntInEachCat, categ, column):\n",
    "    print(column, categ)\n",
    "    printlist = []\n",
    "    accountedfor = 0\n",
    "    for cat in range(num_categs):\n",
    "        total = cntInEachCat[cat*(num_categs+(3-num_categs))] + cntInEachCat[cat*(num_categs+(3-num_categs))+1]        \n",
    "        trueFalse = (cntInEachCat[cat*(num_categs+(3-num_categs))+1], \"to\", cntInEachCat[cat*(num_categs+(3-num_categs))])\n",
    "        try:\n",
    "            pcntTrueVsTotal = cntInEachCat[cat*(num_categs+(3-num_categs))+1] / total\n",
    "        except ZeroDivisionError:\n",
    "             pcntTrueVsTotal = \"division by zero error\"\n",
    "        howMuchTotal = cntInEachCat[cat*(num_categs+(3-num_categs))+2]\n",
    "        try:\n",
    "            howMuchPerCatAvg = cntInEachCat[cat*(num_categs+(3-num_categs))+2] / cntInEachCat[cat*(num_categs+(3-num_categs))+1]\n",
    "        except ZeroDivisionError:\n",
    "             howMuchPerCatAvg = \"division by zero error\"\n",
    "\n",
    "        print(categ[cat], \"Total:\", total)\n",
    "        print(categ[cat], \"True/False:\", trueFalse)\n",
    "        print(categ[cat], \"% True of Total:\", pcntTrueVsTotal)\n",
    "        print(categ[cat], \"HowMuch Total:\", howMuchTotal)\n",
    "        print(categ[cat], \"HowMuch per True:\", howMuchPerCatAvg)\n",
    "        \n",
    "        addon = categ[cat] + \" (\" +\"F=\"+ str(trueFalse[2]) + \", T=\" + str(trueFalse[0]) +\", Rev=\"+ str(howMuchTotal) +\")\"\n",
    "        accountedfor += total\n",
    "        printlist.append(addon)\n",
    "    printlist.append((\"Total: \"+ str(accountedfor)))\n",
    "    print(printlist)\n",
    "    print()"
   ]
  },
  {
   "cell_type": "code",
   "execution_count": 8,
   "metadata": {},
   "outputs": [],
   "source": [
    "def statsTotals(dataset, column, colCompr, categ):\n",
    "    \n",
    "    \n",
    "    \n",
    "    \n",
    "    \n",
    "    assert(type(dataset) == type(pd.DataFrame())) # dataset = class DataFrame\n",
    "    assert(type(column) == type(str())) # column = String\n",
    "    assert(type(colCompr) == type(str())) # colCompr = String\n",
    "    assert(type(categ) == type(list())) # categ = StringList\n",
    "    \n",
    "    # Local VARS #\n",
    "    num_rows = dataset.shape[0] # get number of rows for data\n",
    "    num_categs = len(categ) # get how many categories were imputed\n",
    "\n",
    "    # create a list for each category of the feature column \n",
    "    # for each of the categories, how many had \"True\" predictions vs \"False\" predictions \n",
    "    # var to count for each list\n",
    "    cntInEachCat = []\n",
    "    for i in range(num_categs): # create a list for each category in the feature\n",
    "        cntInEachCat.append(0) # number True in the category \n",
    "        cntInEachCat.append(0) # number not True in the category\n",
    "        cntInEachCat.append(0) # Total Revenue in that category\n",
    "\n",
    "    # Logic to return Var: cntInEachCat with proper counts of \"True/False\" predictions\n",
    "    for row in range(num_rows): # for each data file in file\n",
    "        for cat in range(num_categs): # For each of the categories the file could be \n",
    "            if(dataframe_all.loc[row][column] == categ[cat]): # for each of those categories, if the file is of that category type\n",
    "                if(dataframe_all.loc[row][colCompr] > 0): # if the comparison row, (e.g. \"revenue_30\"), is greater than zero\n",
    "                    cntInEachCat[cat*(num_categs+(3-num_categs))+1] += 1  # add onto the count for that category\n",
    "                    cntInEachCat[cat*(num_categs+(3-num_categs))+2] += dataframe_all.loc[row][colCompr]  # add in dollars\n",
    "                else:\n",
    "                    cntInEachCat[cat*(num_categs+(3-num_categs))] += 1 # add onto the count that there was no revenue\n",
    "    \n",
    "    printStatsTotals(num_categs, cntInEachCat, categ, column)\n",
    "    return cntInEachCat  # if I want the numbers for anything"
   ]
  },
  {
   "cell_type": "code",
   "execution_count": 9,
   "metadata": {},
   "outputs": [
    {
     "name": "stdout",
     "output_type": "stream",
     "text": [
      "currentstatus ['Active', 'Enrolled']\n",
      "Active Total: 9918\n",
      "Active True/False: (1699, 'to', 8219)\n",
      "Active % True of Total: 0.171304698527929\n",
      "Active HowMuch Total: 1171406.1233999934\n",
      "Active HowMuch per True: 689.467994938195\n",
      "Enrolled Total: 18199\n",
      "Enrolled True/False: (1228, 'to', 16971)\n",
      "Enrolled % True of Total: 0.06747623495796472\n",
      "Enrolled HowMuch Total: 938996.2516999948\n",
      "Enrolled HowMuch per True: 764.6549280944583\n",
      "['Active (F=8219, T=1699, Rev=1171406.1233999934)', 'Enrolled (F=16971, T=1228, Rev=938996.2516999948)', 'Total: 28117']\n",
      "\n"
     ]
    }
   ],
   "source": [
    "currentstatus = statsTotals(dataframe_all, \"currentstatus\", \"revenue_30\", [\"Active\", \"Enrolled\"])"
   ]
  },
  {
   "cell_type": "code",
   "execution_count": null,
   "metadata": {},
   "outputs": [],
   "source": []
  },
  {
   "cell_type": "code",
   "execution_count": null,
   "metadata": {},
   "outputs": [],
   "source": []
  },
  {
   "cell_type": "code",
   "execution_count": null,
   "metadata": {},
   "outputs": [],
   "source": []
  },
  {
   "cell_type": "code",
   "execution_count": null,
   "metadata": {},
   "outputs": [],
   "source": []
  },
  {
   "cell_type": "code",
   "execution_count": null,
   "metadata": {},
   "outputs": [],
   "source": []
  },
  {
   "cell_type": "code",
   "execution_count": null,
   "metadata": {},
   "outputs": [],
   "source": []
  },
  {
   "cell_type": "code",
   "execution_count": null,
   "metadata": {},
   "outputs": [],
   "source": []
  },
  {
   "cell_type": "code",
   "execution_count": null,
   "metadata": {},
   "outputs": [],
   "source": []
  }
 ],
 "metadata": {
  "kernelspec": {
   "display_name": "Python 3",
   "language": "python",
   "name": "python3"
  },
  "language_info": {
   "codemirror_mode": {
    "name": "ipython",
    "version": 3
   },
   "file_extension": ".py",
   "mimetype": "text/x-python",
   "name": "python",
   "nbconvert_exporter": "python",
   "pygments_lexer": "ipython3",
   "version": "3.7.0"
  }
 },
 "nbformat": 4,
 "nbformat_minor": 2
}
