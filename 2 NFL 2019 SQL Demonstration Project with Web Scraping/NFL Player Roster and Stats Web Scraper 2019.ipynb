{
 "cells": [
  {
   "cell_type": "markdown",
   "metadata": {},
   "source": [
    "Imports"
   ]
  },
  {
   "cell_type": "code",
   "execution_count": 2,
   "metadata": {},
   "outputs": [],
   "source": [
    "# my imports\n",
    "import requests\n",
    "from lxml import html\n",
    "import pandas as pd\n",
    "from bs4 import BeautifulSoup\n",
    "import re\n",
    "import time\n",
    "import urllib"
   ]
  },
  {
   "cell_type": "markdown",
   "metadata": {},
   "source": [
    "Code Fragements (Skip down)\n"
   ]
  },
  {
   "cell_type": "code",
   "execution_count": null,
   "metadata": {},
   "outputs": [],
   "source": [
    "# session = requests.Session()\n",
    "# page = requests.get('https://www.lineups.com/nfl/player-stats/matt-ryan')\n",
    "# # print(page)\n",
    "# soup = BeautifulSoup(page, 'lxml')\n",
    "# print(soup)\n",
    "\n",
    "# from lxml.html.clean import clean_html\n",
    "# from selenium import webdriver\n",
    "# from selenium.webdriver.support.ui import Select\n",
    "# from selenium.webdriver.common.keys import Keys\n",
    "\n",
    "# # the location of a webdriver on my computer\n",
    "# # this thing is probably what I need if I want to extract from complex websites where forms, and buttons, and parameters\n",
    "# # need to be changed on the website.\n",
    "# driver = webdriver.Chrome('C:/NEW PROGRAMS/chromedriver_win32/chromedriver.exe')\n",
    "\n",
    "# driver.get(\"https://www.lineups.com/nfl/roster/new-england-patriots\")\n",
    "# # driver.get(\"https://www.lineups.com/nfl/player-stats/Matt-Ryan\")\n",
    "\n",
    "#     time.sleep()\n",
    "\n",
    "#     filename = \"nfl_ne_roster.html\"\n",
    "#     soupString = open(filename, \"r\").read()\n",
    "#     soup = BeautifulSoup(soupString, \"html.parser\")\n",
    "\n",
    "# pos_df = pd.DataFrame(position_data)\n",
    "# pos_df.fillna(\"Rookie\", inplace=True)\n",
    "# pos_df.columns = position_headers\n",
    "\n",
    "# # filename = position + '-stats.xlsx'.xlsx\n",
    "# print(filename)\n",
    "# pos_df.to_excel(filename)\n",
    "\n",
    "# position_data\n",
    "# for each in position_data:\n",
    "#     if len(each)>9:\n",
    "#         print (each)\n",
    "# print(df.loc[df['Name'] == 'John Franklin'])\n",
    "\n",
    "# # with open(filename, \"w\") as file:\n",
    "# #     file.write(str(soup))\n",
    "\n",
    "# soupString = open(filename, \"r\").read()\n",
    "\n",
    "# # turn back into BeautifulSoup\n",
    "# soup = BeautifulSoup(soupString, \"html.parser\")\n",
    "# pos_unique = list(df['Pos'].unique())\n",
    "# print(type(pos_unique[14]))\n",
    "# pos_df = df['Pos'] == 'OL'\n",
    "# pos_df = df[pos_df]\n",
    "# print(len(pos_df))\n",
    "# print(pos_df)\n"
   ]
  },
  {
   "cell_type": "markdown",
   "metadata": {},
   "source": [
    "Input the text file nflTeams.txt that is a list of all 32 NFL teams\n",
    "\n",
    "Then, format the textfile into a list of properly formed URL endings"
   ]
  },
  {
   "cell_type": "code",
   "execution_count": 168,
   "metadata": {},
   "outputs": [
    {
     "name": "stdout",
     "output_type": "stream",
     "text": [
      "['arizona-cardinals', 'atlanta-falcons', 'baltimore-ravens', 'buffalo-bills', 'carolina-panthers']\n"
     ]
    }
   ],
   "source": [
    "file = open(\"nflTeams.txt\", \"r\")\n",
    "nflTeams = file.read().splitlines()\n",
    "\n",
    "for i, team in enumerate(nflTeams):\n",
    "    nflTeams[i] = nflTeams[i].replace(\" \", \"-\").lower()\n",
    "\n",
    "print(nflTeams[:5])"
   ]
  },
  {
   "cell_type": "markdown",
   "metadata": {},
   "source": [
    "Get roster data from all NFL teams: https://www.lineups.com/nfl/roster/\n",
    "\n",
    "Then export it to an excel file"
   ]
  },
  {
   "cell_type": "code",
   "execution_count": 80,
   "metadata": {},
   "outputs": [
    {
     "name": "stdout",
     "output_type": "stream",
     "text": [
      "arizona-cardinals\n",
      "atlanta-falcons\n",
      "baltimore-ravens\n",
      "buffalo-bills\n",
      "carolina-panthers\n",
      "chicago-bears\n",
      "cincinnati-bengals\n",
      "cleveland-browns\n",
      "dallas-cowboys\n",
      "denver-broncos\n",
      "detroit-lions\n",
      "green-bay-packers\n",
      "houston-texans\n",
      "indianapolis-colts\n",
      "jacksonville-jaguars\n",
      "kansas-city-chiefs\n",
      "los-angeles-rams\n",
      "miami-dolphins\n",
      "minnesota-vikings\n",
      "new-england-patriots\n",
      "new-orleans-saints\n",
      "new-york-giants\n",
      "new-york-jets\n",
      "oakland-raiders\n",
      "philadelphia-eagles\n",
      "pittsburgh-steelers\n",
      "los-angeles-chargers\n",
      "san-francisco-49ers\n",
      "seattle-seahawks\n",
      "tampa-bay-buccaneers\n",
      "tennessee-titans\n",
      "washington-redskins\n"
     ]
    }
   ],
   "source": [
    "base_url = \"https://www.lineups.com/nfl/roster/\"\n",
    "teamData = []\n",
    "\n",
    "for team in nflTeams:\n",
    "    pass\n",
    "    print(team)\n",
    "    \n",
    "    url = base_url + team\n",
    "    page = requests.get(url).text\n",
    "    soup = BeautifulSoup(page, 'lxml')\n",
    "    \n",
    "    playerRosterInfoData = soup.find('tbody')\n",
    "    t_content_rows = playerRosterInfoData.findAll('tr',{'class':'t-content'})\n",
    "    \n",
    "    playerData = []\n",
    "\n",
    "    # for each player\n",
    "    for i,each_player in enumerate(t_content_rows):\n",
    "    #     get all the column info for each found in the @td tag\n",
    "        player_row = each_player.findAll('td')\n",
    "\n",
    "        tempData = []\n",
    "        tempData.append(team)\n",
    "\n",
    "    #     each td contains info for the dataframe\n",
    "        for i,col in enumerate(player_row):\n",
    "\n",
    "    #       the players name at indices 1 needs to be formated correctly\n",
    "            if (i!=1):\n",
    "    #             print(col.text.strip())\n",
    "\n",
    "    #             turn string digits into digits\n",
    "                if(col.text.strip().isdigit()):\n",
    "                    tempData.append(int(col.text.strip()))\n",
    "                else:\n",
    "                    tempData.append(col.text.strip())\n",
    "            else:\n",
    "                playerName_re = re.compile('\\S+\\s\\S+') \n",
    "                tempData.append(playerName_re.match(col.text.strip()).group())\n",
    "    #             print(playerName_re.match(col.text.strip()).group())\n",
    "\n",
    "        playerData.append(tempData)\n",
    "    teamData = teamData + playerData\n",
    "\n",
    "    # wait request"
   ]
  },
  {
   "cell_type": "markdown",
   "metadata": {},
   "source": [
    "Total NFL players"
   ]
  },
  {
   "cell_type": "code",
   "execution_count": 81,
   "metadata": {},
   "outputs": [
    {
     "data": {
      "text/plain": [
       "2835"
      ]
     },
     "execution_count": 81,
     "metadata": {},
     "output_type": "execute_result"
    }
   ],
   "source": [
    "len(teamData)"
   ]
  },
  {
   "cell_type": "markdown",
   "metadata": {},
   "source": [
    "Get the headers for the Roster Data\n",
    "\n",
    "And print"
   ]
  },
  {
   "cell_type": "code",
   "execution_count": 82,
   "metadata": {},
   "outputs": [
    {
     "name": "stdout",
     "output_type": "stream",
     "text": [
      "['Team', 'Pos', 'Name', 'Number', 'Rating', 'Ranking', 'Depth', 'Height', 'Weight', 'Age', 'Birthday', 'Exp.', 'Drafted', 'Draft Round', 'Draft Pick', 'College']\n"
     ]
    }
   ],
   "source": [
    "# headers\n",
    "headersInfo = soup.find('thead')\n",
    "headerCols = headersInfo.findAll('a')\n",
    "headerColList = []\n",
    "headerColList.append(\"Team\")\n",
    "for i,headerCol in enumerate(headerCols):\n",
    "    headerColList.append(headerCols[i].text.strip())\n",
    "print(headerColList)"
   ]
  },
  {
   "cell_type": "markdown",
   "metadata": {},
   "source": [
    "Create dataframe of data and export to excel file named:\n",
    "\n",
    "    'nfl_rosters.xlsx'"
   ]
  },
  {
   "cell_type": "code",
   "execution_count": 31,
   "metadata": {},
   "outputs": [],
   "source": [
    "# df = pd.DataFrame(teamData, columns = headerColList)\n",
    "# df.to_excel('nfl_rosters.xlsx')"
   ]
  },
  {
   "cell_type": "markdown",
   "metadata": {},
   "source": [
    "<h2>Getting the Positional Stats of Each Player</h2>"
   ]
  },
  {
   "cell_type": "markdown",
   "metadata": {},
   "source": [
    "Import the made excel sheet from previous code into notebook\n",
    "\n",
    "(So you don't have to rescrape every time)"
   ]
  },
  {
   "cell_type": "code",
   "execution_count": 181,
   "metadata": {},
   "outputs": [
    {
     "ename": "AttributeError",
     "evalue": "'Series' object has no attribute 'isNaN'",
     "output_type": "error",
     "traceback": [
      "\u001b[1;31m---------------------------------------------------------------------------\u001b[0m",
      "\u001b[1;31mAttributeError\u001b[0m                            Traceback (most recent call last)",
      "\u001b[1;32m<ipython-input-181-9e9a077344a5>\u001b[0m in \u001b[0;36m<module>\u001b[1;34m()\u001b[0m\n\u001b[0;32m      3\u001b[0m \u001b[1;31m# print(df.tail)\u001b[0m\u001b[1;33m\u001b[0m\u001b[1;33m\u001b[0m\u001b[0m\n\u001b[0;32m      4\u001b[0m \u001b[1;33m\u001b[0m\u001b[0m\n\u001b[1;32m----> 5\u001b[1;33m \u001b[0mprint\u001b[0m\u001b[1;33m(\u001b[0m\u001b[0mdf\u001b[0m\u001b[1;33m.\u001b[0m\u001b[0mloc\u001b[0m\u001b[1;33m[\u001b[0m\u001b[0mdf\u001b[0m\u001b[1;33m[\u001b[0m\u001b[1;34m'Pos'\u001b[0m\u001b[1;33m]\u001b[0m\u001b[1;33m.\u001b[0m\u001b[0misNaN\u001b[0m\u001b[1;33m(\u001b[0m\u001b[1;33m)\u001b[0m\u001b[1;33m]\u001b[0m\u001b[1;33m)\u001b[0m\u001b[1;33m\u001b[0m\u001b[0m\n\u001b[0m\u001b[0;32m      6\u001b[0m \u001b[1;31m#     print(11)\u001b[0m\u001b[1;33m\u001b[0m\u001b[1;33m\u001b[0m\u001b[0m\n",
      "\u001b[1;32m~\\Anaconda3\\lib\\site-packages\\pandas\\core\\generic.py\u001b[0m in \u001b[0;36m__getattr__\u001b[1;34m(self, name)\u001b[0m\n\u001b[0;32m   4374\u001b[0m             \u001b[1;32mif\u001b[0m \u001b[0mself\u001b[0m\u001b[1;33m.\u001b[0m\u001b[0m_info_axis\u001b[0m\u001b[1;33m.\u001b[0m\u001b[0m_can_hold_identifiers_and_holds_name\u001b[0m\u001b[1;33m(\u001b[0m\u001b[0mname\u001b[0m\u001b[1;33m)\u001b[0m\u001b[1;33m:\u001b[0m\u001b[1;33m\u001b[0m\u001b[0m\n\u001b[0;32m   4375\u001b[0m                 \u001b[1;32mreturn\u001b[0m \u001b[0mself\u001b[0m\u001b[1;33m[\u001b[0m\u001b[0mname\u001b[0m\u001b[1;33m]\u001b[0m\u001b[1;33m\u001b[0m\u001b[0m\n\u001b[1;32m-> 4376\u001b[1;33m             \u001b[1;32mreturn\u001b[0m \u001b[0mobject\u001b[0m\u001b[1;33m.\u001b[0m\u001b[0m__getattribute__\u001b[0m\u001b[1;33m(\u001b[0m\u001b[0mself\u001b[0m\u001b[1;33m,\u001b[0m \u001b[0mname\u001b[0m\u001b[1;33m)\u001b[0m\u001b[1;33m\u001b[0m\u001b[0m\n\u001b[0m\u001b[0;32m   4377\u001b[0m \u001b[1;33m\u001b[0m\u001b[0m\n\u001b[0;32m   4378\u001b[0m     \u001b[1;32mdef\u001b[0m \u001b[0m__setattr__\u001b[0m\u001b[1;33m(\u001b[0m\u001b[0mself\u001b[0m\u001b[1;33m,\u001b[0m \u001b[0mname\u001b[0m\u001b[1;33m,\u001b[0m \u001b[0mvalue\u001b[0m\u001b[1;33m)\u001b[0m\u001b[1;33m:\u001b[0m\u001b[1;33m\u001b[0m\u001b[0m\n",
      "\u001b[1;31mAttributeError\u001b[0m: 'Series' object has no attribute 'isNaN'"
     ]
    }
   ],
   "source": [
    "filename = \"nfl_rosters.xlsx\"\n",
    "df = pd.read_excel(filename)\n",
    "# print(df.tail)\n"
   ]
  },
  {
   "cell_type": "markdown",
   "metadata": {},
   "source": [
    "Check all the positions that I am making a separate table for"
   ]
  },
  {
   "cell_type": "code",
   "execution_count": 191,
   "metadata": {},
   "outputs": [
    {
     "name": "stdout",
     "output_type": "stream",
     "text": [
      "['C', 'CB', 'DB', 'DE', 'DL', 'DT', 'FB', 'FS', 'G', 'ILB', 'K', 'LB', 'LS', 'NT', 'OL', 'OLB', 'OT', 'P', 'QB', 'RB', 'S', 'SS', 'TE', 'WR', nan]\n"
     ]
    }
   ],
   "source": [
    "pos_unique = list(df['Pos'].unique())\n",
    "print(pos_unique)\n"
   ]
  },
  {
   "cell_type": "markdown",
   "metadata": {},
   "source": [
    "Get all the player stats and export it to an excel file"
   ]
  },
  {
   "cell_type": "code",
   "execution_count": 166,
   "metadata": {},
   "outputs": [
    {
     "name": "stdout",
     "output_type": "stream",
     "text": [
      "OLB++++++++++++++++++++++++++++++++++++++++++++++++++++++++++++++++++++++++++++++++++\n",
      "Chandler Jones\n",
      "Terrell Suggs\n",
      "Brooks Reed\n",
      "Matt Longacre\n",
      "Dante Booker\n",
      "Pita Taumoepenu\n",
      "De'Vondre Campbell\n",
      "Foyesade Oluokun\n",
      "Duke Riley\n",
      "Chris Board\n",
      "Matt Judon\n",
      "Pernell McPhee\n",
      "Nicholas Grigsby\n",
      "Tyus Bowser\n",
      "Tim Williams\n",
      "Silas Stewart\n",
      "Jaylon Ferguson\n",
      "Shane Ray\n",
      "Otaro Alaka\n",
      "Donald Payne\n",
      "Matt Milano\n",
      "Lorenzo Alexander\n",
      "Maurice Alexander\n",
      "Corey Thompson\n",
      "Vosean Joseph\n",
      "Deon Lacey\n",
      "Sam Acho\n",
      "Mario Addison\n",
      "Bruce Irvin\n",
      "Brian Burns\n",
      "Marquis Haynes\n",
      "Christian Miller\n",
      "Sione Teuhema\n",
      "Khalil Mack\n",
      "Leonard Floyd\n",
      "Isaiah Irving\n",
      "Aaron Lynch\n",
      "James Vaughters\n",
      "Kylie Fitts\n",
      "Jordan Evans\n",
      "Nick Vigil\n",
      "Germaine Pratt\n",
      "Deshaun Davis\n",
      "Malik Jefferson\n",
      "Curtis Akins\n",
      "Sterling Sheffield\n",
      "Genard Avery\n",
      "Christian Kirksey\n",
      "Mack Wilson\n",
      "Adarius Taylor\n",
      "Ray Ray\n",
      "Willie Harvey\n",
      "Anthony Stubbs\n",
      "Leighton Vander\n",
      "Sean Lee\n",
      "Chris Covington\n",
      "Justin March\n",
      "Luke Gifford\n",
      "Nate Hall\n",
      "Bradley Chubb\n",
      "Von Miller\n",
      "Justin Hollins\n",
      "Dekoda Watson\n",
      "Malik Reed\n",
      "Devon Kennard\n",
      "Christian Jones\n",
      "Jalen Reeves-Maybin\n",
      "Steve Longa\n",
      "Malik Carney\n",
      "Tre' Williams\n",
      "Za'Darius Smith\n",
      "Preston Smith\n",
      "Kyler Fackrell\n",
      "Rashan Gary\n",
      "Greg Roberts\n",
      "Reggie Gilbert\n",
      "Markus Jones\n",
      "Randy Ramsey\n",
      "Whitney Mercilus\n",
      "Zach Cunningham\n",
      "Brennan Scarlett\n",
      "Dylan Cole\n",
      "Xavier Woodson-Luster\n",
      "Jesse Aniebonam\n",
      "Duke Ejiofor\n",
      "Jason Davis\n",
      "Darius Leonard\n",
      "Matthew Adams\n",
      "E.J. Speed\n",
      "Zaire Franklin\n",
      "Skai Moore\n",
      "Carroll Phillips\n",
      "Dadi Nicolas\n",
      "Leon Jacobs\n",
      "Quincy Williams\n",
      "Ramik Wilson\n",
      "Davis Tull\n",
      "DJ Alexander\n",
      "James Onwualu\n",
      "Joe Giles-Harris\n",
      "Lerentee McCray\n",
      "Anthony Hitchens\n",
      "Damien Wilson\n",
      "Jeremiah Attaochu\n",
      "Darron Lee\n",
      "Dorian O'Daniel\n",
      "Hunter Dimick\n",
      "D'Juan Hines\n",
      "Clay Matthews\n",
      "Dante Fowler\n",
      "Samson Ebukam\n",
      "Justin Lawler\n",
      "Obo Okoronkwo\n",
      "Landis Durham\n",
      "Jerome Baker\n",
      "Kiko Alonso\n",
      "Sam Eguavoen\n",
      "Andrew Van\n",
      "Terrill Hanks\n",
      "Ben Gedeon\n",
      "Anthony Barr\n",
      "Eric Wilson\n",
      "Devante Downs\n",
      "AJ Klein\n",
      "Demario Davis\n",
      "Craig Robertson\n",
      "Porter Gustin\n",
      "Colton Jumper\n",
      "Carl Granderson\n",
      "Josh Martin\n",
      "Lorenzo Carter\n",
      "Kareem Martin\n",
      "Oshane Ximines\n",
      "Markus Golden\n",
      "Josiah Tauaefa\n",
      "Nate Harvey\n",
      "Joey Alfieri\n",
      "Jordan Jenkins\n",
      "Brandon Copeland\n",
      "Harvey Langi\n",
      "Frankie Luvu\n",
      "Jachai Polite\n",
      "Tarell Basham\n",
      "Kenny Anunike\n",
      "Tahir Whitehead\n",
      "Brandon Marshall\n",
      "Nicholas Morrow\n",
      "Marquel Lee\n",
      "Kyle Wilber\n",
      "Koa Farmer\n",
      "Kamu Grugier-Hill\n",
      "Zach Brown\n",
      "Nathan Gerry\n",
      "LJ Fort\n",
      "Alex Singleton\n",
      "Eli Harold\n",
      "Bud Dupree\n",
      "TJ Watt\n",
      "Anthony Chickillo\n",
      "Olasunkanmi Adeniyi\n",
      "Sutton Smith\n",
      "Tuzar Skipper\n",
      "J'terius Jones\n",
      "Uchenna Nwosu\n",
      "Thomas Davis\n",
      "Kyzir White\n",
      "Emeke Egbule\n",
      "Jatavis Brown\n",
      "Josh Corcoran\n",
      "Malcolm Smith\n",
      "Kwon Alexander\n",
      "Elijah Lee\n",
      "Dre Greenlaw\n",
      "Mark Nzeocha\n",
      "LaRoy Reynolds\n",
      "KJ Wright\n",
      "Shaquem Griffin\n",
      "Mychal Kendricks\n",
      "Austin Calitro\n",
      "Ben Burr-Kirven\n",
      "Juwon Young\n",
      "Emmanuel Ellerbee\n",
      "Carl Nassib\n",
      "Noah Spence\n",
      "Shaquil Barrett\n",
      "Anthony Nelson\n",
      "Kahzin Daniels\n",
      "Lavonte David\n",
      "Corey Nelson\n",
      "Cameron Wake\n",
      "Harold Landry\n",
      "Kamalei Correa\n",
      "Sharif Finch\n",
      "Derick Roberson\n",
      "James Folston\n",
      "D'Andre Walker\n",
      "Jordan Williams\n",
      "Ryan Anderson\n",
      "Ryan Kerrigan\n",
      "Montez Sweat\n",
      "Cassanova McKinzy\n",
      "Jordan Brailford\n",
      "Marcus Smith\n",
      "Darrell Williams\n"
     ]
    }
   ],
   "source": [
    "pos_unique = list(df['Pos'].unique())\n",
    "\n",
    "if 'nan' in pos_unique:\n",
    "    pos_unique.remove('nan')\n",
    "\n",
    "base_url = \"https://www.lineups.com/nfl/player-stats/\"\n",
    "\n",
    "\n",
    "for i, position in enumerate(pos_unique[15:16]):\n",
    "    print(position+ '++++++++++++++++++++++++++++++++++++++++++++++++++++++++++++++++++++++++++++++++++')\n",
    "    pos_df = df['Pos'] == position\n",
    "    pos_df = df[pos_df]\n",
    "    \n",
    "    # get headers for the position\n",
    "    position_headers = []\n",
    "    count = 0\n",
    "    while(True):\n",
    "        player = pos_df['Name'].iloc[count]\n",
    "        url = base_url + player.replace(\" \" ,\"-\").replace(\"'\" , '').lower()\n",
    "        html = urllib.request.urlopen(url).read()\n",
    "        soup = BeautifulSoup(html, 'html.parser')\n",
    "        pos_info = soup.find(\"thead\")\n",
    "        \n",
    "        tempData = []\n",
    "        tempData.append('Name')\n",
    "        if (pos_info != None):   \n",
    "            pos_th = pos_info.findAll('th')\n",
    "\n",
    "            for th in pos_th:\n",
    "                tempData.append(th.text.strip())\n",
    "            position_headers = tempData\n",
    "            break        \n",
    "        count += 1\n",
    "        \n",
    "        if count == len(pos_df):\n",
    "            position_headers = tempData\n",
    "            break\n",
    "\n",
    "    # get stats\n",
    "    position_data = []\n",
    "    \n",
    "    for player in pos_df['Name']:\n",
    "        print(player)\n",
    "        tempData = []\n",
    "        tempData.append(player)\n",
    "        \n",
    "        url = base_url + player.replace(\" \" ,\"-\").replace(\"'\" , '').lower()\n",
    "        html = urllib.request.urlopen(url).read()\n",
    "        soup = BeautifulSoup(html, 'html.parser')\n",
    "        pos_info = soup.find(\"tbody\")\n",
    "        \n",
    "        if (pos_info != None):   \n",
    "            pos_td = pos_info.findAll('td')\n",
    "            for td in pos_td:\n",
    "                if(td.text.strip().isdigit()):\n",
    "                    tempData.append(int(td.text.strip()))\n",
    "                else:\n",
    "                    tempData.append(td.text.strip())\n",
    "        position_data.append(tempData)\n",
    "    \n",
    "    pos_df = pd.DataFrame(position_data)\n",
    "    pos_df.fillna(\"Rookie\", inplace=True)\n",
    "    pos_df.columns = position_headers\n",
    "    \n",
    "    filename = position + '_stats.xlsx'\n",
    "    pos_df.to_excel(filename)\n",
    "    "
   ]
  }
 ],
 "metadata": {
  "kernelspec": {
   "display_name": "Python 3",
   "language": "python",
   "name": "python3"
  },
  "language_info": {
   "codemirror_mode": {
    "name": "ipython",
    "version": 3
   },
   "file_extension": ".py",
   "mimetype": "text/x-python",
   "name": "python",
   "nbconvert_exporter": "python",
   "pygments_lexer": "ipython3",
   "version": "3.7.0"
  }
 },
 "nbformat": 4,
 "nbformat_minor": 2
}
