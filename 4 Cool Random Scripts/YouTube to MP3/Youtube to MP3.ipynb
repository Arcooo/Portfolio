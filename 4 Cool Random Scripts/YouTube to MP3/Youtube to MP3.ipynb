{
 "cells": [
  {
   "cell_type": "code",
   "execution_count": 19,
   "metadata": {},
   "outputs": [
    {
     "name": "stdout",
     "output_type": "stream",
     "text": [
      "Requirement already satisfied: ffprobe in c:\\users\\alecc\\anaconda3\\lib\\site-packages (0.5)\n"
     ]
    }
   ],
   "source": [
    "# !pip install ffprobe"
   ]
  },
  {
   "cell_type": "code",
   "execution_count": 1,
   "metadata": {},
   "outputs": [
    {
     "name": "stdout",
     "output_type": "stream",
     "text": [
      "[youtube] HI-mXMr8glQ: Downloading webpage\n",
      "[youtube] HI-mXMr8glQ: Downloading video info webpage\n",
      "[youtube] HI-mXMr8glQ: Downloading js player vflkpoWE6\n",
      "[youtube] HI-mXMr8glQ: Downloading js player vflkpoWE6\n",
      "[download] Destination: Migos - Stir Fry (Official)-HI-mXMr8glQ.webm\n",
      "[download] 100% of 5.83MiB in 00:01                  \n",
      "[ffmpeg] Destination: Migos - Stir Fry (Official)-HI-mXMr8glQ.mp3\n",
      "Deleting original file Migos - Stir Fry (Official)-HI-mXMr8glQ.webm (pass -k to keep)\n"
     ]
    }
   ],
   "source": [
    "from __future__ import unicode_literals\n",
    "import youtube_dl\n",
    "import os\n",
    "from sys import argv\n",
    "# import ffprobe3\n",
    "import ffmpeg\n",
    "\n",
    "download_options = {\n",
    "    'format': 'bestaudio/best',\n",
    "    'postprocessors': [{\n",
    "        'key': 'FFmpegExtractAudio',\n",
    "        'preferredcodec': 'mp3',\n",
    "        'preferredquality': '192',\n",
    "    }],\n",
    "}\n",
    "\n",
    "# Song Directory\n",
    "# if not os.path.exists('Songs'):\n",
    "#     os.mkdir('Songs')\n",
    "# else:\n",
    "#     os.chdir('Songs')\n",
    "\n",
    "url = 'https://www.youtube.com/watch?v=HI-mXMr8glQ'\n",
    "\n",
    "\n",
    "# Download Songs\n",
    "with youtube_dl.YoutubeDL(download_options) as dl:\n",
    "    dl.download([url])"
   ]
  }
 ],
 "metadata": {
  "kernelspec": {
   "display_name": "Python 3",
   "language": "python",
   "name": "python3"
  },
  "language_info": {
   "codemirror_mode": {
    "name": "ipython",
    "version": 3
   },
   "file_extension": ".py",
   "mimetype": "text/x-python",
   "name": "python",
   "nbconvert_exporter": "python",
   "pygments_lexer": "ipython3",
   "version": "3.7.0"
  }
 },
 "nbformat": 4,
 "nbformat_minor": 2
}
